{
 "cells": [
  {
   "cell_type": "markdown",
   "metadata": {},
   "source": [
    "INSTRUCTIONS\n",
    "Step 1: P1 chooses rock, paper, or scissors. No capitals.\n",
    "Step 2: press enter\n",
    "Step 3: repeat Step 1 and Step 2 for player 2"
   ]
  },
  {
   "cell_type": "code",
   "execution_count": null,
   "metadata": {},
   "outputs": [],
   "source": [
    "#RPS game\n",
    "\n",
    "#Input\n",
    "P1 = input('Player One enter choice ')\n",
    "p1 = 0\n",
    "while p1 == 0:\n",
    "    if P1 == 'rock':\n",
    "        p1 = 1\n",
    "    elif P1 == 'paper':\n",
    "        p1 = 2\n",
    "    elif P1 == 'scissors':\n",
    "        p1 = 3\n",
    "    else: \n",
    "        print('ERROR: PLAYER 1 PLEASE CHOOSE VALID WORD')\n",
    "        P1 = input('Player One enter choice ')\n",
    "\n",
    "P2 = input('Player Two enter choice ')\n",
    "p2 = 0\n",
    "while p2 == 0:\n",
    "    if P2 == 'rock':\n",
    "        p2 = 1\n",
    "    elif P2 == 'paper':\n",
    "        p2 = 2\n",
    "    elif P2 == 'scissors':\n",
    "        p2 = 3\n",
    "    else: \n",
    "        print('ERROR: PLAYER 2 PLEASE CHOOSE VALID WORD')\n",
    "        P2 = input('Player Two enter choice ')\n",
    "\n",
    "#Code\n",
    "\n",
    "\n",
    "if P1 == 'rock' and P2 == 'rock':\n",
    "    W='tie'\n",
    "if P1 == 'rock' and P2 == 'paper':\n",
    "    W='P2 Wins'\n",
    "if P1 == 'rock' and P2 == 'scissors':\n",
    "    W='P1 Wins'\n",
    "if P1 == 'paper' and P2 == 'rock':\n",
    "    W='P1 Wins'\n",
    "if P1 == 'paper' and P2 == 'paper':\n",
    "    W='tie'\n",
    "if P1 == 'paper' and P2 == 'scissors':\n",
    "    W='P2 Wins'\n",
    "if P1 == 'scissors' and P2 == 'rock':\n",
    "    W='P2 Wins'\n",
    "if P1 == 'scissors' and P2 == 'paper':\n",
    "    W='P1 Wins'\n",
    "if P1 == 'scissors' and P2 == 'scissors':\n",
    "    W='tie'\n",
    "\n",
    "#Output\n",
    "print ('Player 1 chose', P1)\n",
    "print ('Player 2 chose', P2)\n",
    "print (W)"
   ]
  },
  {
   "cell_type": "code",
   "execution_count": 28,
   "metadata": {},
   "outputs": [
    {
     "name": "stdout",
     "output_type": "stream",
     "text": [
      "Player 1 chose paper\n",
      "Bobot chose paper\n",
      "tie\n"
     ]
    }
   ],
   "source": [
    "import random\n",
    "P2 = (random.choice(['rock','paper','scissors']))\n",
    "P1 = input('Player One enter choice ')\n",
    "p1 = 0\n",
    "while p1 == 0:\n",
    "    if P1 == 'rock':\n",
    "        p1 = 1\n",
    "    elif P1 == 'paper':\n",
    "        p1 = 2\n",
    "    elif P1 == 'scissors':\n",
    "        p1 = 3\n",
    "    else: \n",
    "        print('ERROR: PLAYER 1 PLEASE CHOOSE VALID WORD')\n",
    "        P1 = input('Player One enter choice ')\n",
    "\n",
    "if P1 == 'rock' and P2 == 'rock':\n",
    "    W='tie'\n",
    "if P1 == 'rock' and P2 == 'paper':\n",
    "    W='P2 Wins'\n",
    "if P1 == 'rock' and P2 == 'scissors':\n",
    "    W='P1 Wins'\n",
    "if P1 == 'paper' and P2 == 'rock':\n",
    "    W='P1 Wins'\n",
    "if P1 == 'paper' and P2 == 'paper':\n",
    "    W='tie'\n",
    "if P1 == 'paper' and P2 == 'scissors':\n",
    "    W='P2 Wins'\n",
    "if P1 == 'scissors' and P2 == 'rock':\n",
    "    W='P2 Wins'\n",
    "if P1 == 'scissors' and P2 == 'paper':\n",
    "    W='P1 Wins'\n",
    "if P1 == 'scissors' and P2 == 'scissors':\n",
    "    W='tie'\n",
    "\n",
    "#Output\n",
    "print ('Player 1 chose', P1)\n",
    "print ('Bobot chose', P2)\n",
    "print (W)"
   ]
  }
 ],
 "metadata": {
  "kernelspec": {
   "display_name": "Python 3.10.6 64-bit",
   "language": "python",
   "name": "python3"
  },
  "language_info": {
   "codemirror_mode": {
    "name": "ipython",
    "version": 3
   },
   "file_extension": ".py",
   "mimetype": "text/x-python",
   "name": "python",
   "nbconvert_exporter": "python",
   "pygments_lexer": "ipython3",
   "version": "3.10.6"
  },
  "orig_nbformat": 4,
  "vscode": {
   "interpreter": {
    "hash": "aecb84c6e9b28468bbdb20658c528c3dc561f4bfe341e572572258a058312940"
   }
  }
 },
 "nbformat": 4,
 "nbformat_minor": 2
}
